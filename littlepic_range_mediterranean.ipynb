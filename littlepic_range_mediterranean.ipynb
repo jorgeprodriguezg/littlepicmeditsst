{
 "cells": [
  {
   "cell_type": "code",
   "execution_count": 1,
   "metadata": {},
   "outputs": [],
   "source": [
    "import pandas as pd\n",
    "import glob\n",
    "import pylab as plt\n",
    "plt.style.use('bmh')\n",
    "import geopandas as gp\n",
    "import xarray as xarr"
   ]
  },
  {
   "cell_type": "code",
   "execution_count": 17,
   "metadata": {},
   "outputs": [
    {
     "name": "stdout",
     "output_type": "stream",
     "text": [
      "['./dap.ceda.ac.uk/neodc/esacci/sst/data/obs4MIPs/UReading/ESA-CCI-SST-v2-1/mon/tos/gn/v20201130/00README_catalogue_and_licence.txt', './dap.ceda.ac.uk/neodc/esacci/sst/data/obs4MIPs/UReading/ESA-CCI-SST-v2-1/mon/tos/gn/v20201130/index.html', './dap.ceda.ac.uk/neodc/esacci/sst/data/obs4MIPs/UReading/ESA-CCI-SST-v2-1/mon/tos/gn/v20201130/tos_mon_ESA-CCI-SST-v2-1_BE_gn_198109-201712.nc', './dap.ceda.ac.uk/neodc/esacci/sst/data/obs4MIPs/UReading/ESA-CCI-SST-v2-1/mon/tos/gn/v20201130/ESACCI-SST-v2.1-technical_note-v1.pdf']\n"
     ]
    }
   ],
   "source": [
    "files = glob.glob('./dap.ceda.ac.uk/neodc/esacci/sst/data/obs4MIPs/UReading/ESA-CCI-SST-v2-1/mon/tos/gn/v20201130/*')\n",
    "print(files)"
   ]
  },
  {
   "cell_type": "code",
   "execution_count": 18,
   "metadata": {},
   "outputs": [],
   "source": [
    "import netCDF4 as nc"
   ]
  },
  {
   "cell_type": "code",
   "execution_count": 21,
   "metadata": {},
   "outputs": [],
   "source": [
    "ds = nc.Dataset(files[2])"
   ]
  },
  {
   "cell_type": "code",
   "execution_count": 22,
   "metadata": {},
   "outputs": [
    {
     "name": "stdout",
     "output_type": "stream",
     "text": [
      "<class 'netCDF4._netCDF4.Dataset'>\n",
      "root group (NETCDF4_CLASSIC data model, file format HDF5):\n",
      "    Conventions: CF-1.7 ODS-2.1\n",
      "    activity_id: obs4MIPs\n",
      "    contact: Christopher Merchant, University of Reading, U.K. (c.j.merchant@reading.ac.uk)\n",
      "    creation_date: 2020-11-30T10:55:21Z\n",
      "    data_specs_version: 2.1.0\n",
      "    frequency: mon\n",
      "    further_info_url: https://furtherinfo.es-doc.org/obs4MIPs.UReading.ESA-CCI-SST.ESA-CCI-SST-v2-1.tos\n",
      "    grid: 1x1 degree latitude x longitude\n",
      "    grid_label: gn\n",
      "    history: 2020-11-30T10:55:21Z; CMOR rewrote data to be consistent with obs4MIPs, and CF-1.7 ODS-2.1 standards\n",
      "    institution: University of Reading, Reading, U.K.\n",
      "    institution_id: UReading\n",
      "    nominal_resolution: 100 km\n",
      "    product: observations\n",
      "    realm: ocean\n",
      "    region: global_ocean\n",
      "    source: ESA-CCI-SST v2.1 (2019): Sea Surface Temperature (SST) from the European Space Agency Climate Change Initiative (ESA CCI)\n",
      "    source_id: ESA-CCI-SST-v2-1\n",
      "    source_label: ESA-CCI-SST\n",
      "    source_type: satellite_retrieval\n",
      "    source_version_number: v2.1\n",
      "    table_id: obs4MIPs_Omon\n",
      "    table_info: Creation Date:(04 September 2020) MD5:40e6e22ecc5c761c5d463c7d170f85ef\n",
      "    title: ESA CCI SST v2.1 prepared for obs4MIPs (ODS-v2.1.0)\n",
      "    tracking_id: hdl:21.14102/f06060d0-e885-4645-89d6-03bf0a0dab7e\n",
      "    variable_id: tos\n",
      "    variant_info: Best Estimate\n",
      "    variant_label: BE\n",
      "    license: Data in this file produced by the University of Reading is licensed under a Creative Commons Attribution-ShareAlike 4.0 International License (https://creativecommons.org/licenses/). Use of the data must be acknowledged following guidelines found at https://doi.org/10.1038/s41597-019-0236-x . Further information about this data, including some limitations, can be found via https://doi.org/10.1038/s41597-019-0236-x\n",
      "    cmor_version: 3.5.0\n",
      "    dimensions(sizes): time(436), lat(180), lon(360), bnds(2)\n",
      "    variables(dimensions): float64 time(time), float64 time_bnds(time, bnds), float64 lat(lat), float64 lat_bnds(lat, bnds), float64 lon(lon), float64 lon_bnds(lon, bnds), float32 tos(time, lat, lon)\n",
      "    groups: \n"
     ]
    }
   ],
   "source": [
    "print(ds)"
   ]
  },
  {
   "cell_type": "code",
   "execution_count": 23,
   "metadata": {},
   "outputs": [
    {
     "name": "stdout",
     "output_type": "stream",
     "text": [
      "<class 'netCDF4._netCDF4.Variable'>\n",
      "float64 time(time)\n",
      "    bounds: time_bnds\n",
      "    units: days since 1981-01-01\n",
      "    calendar: gregorian\n",
      "    axis: T\n",
      "    long_name: time\n",
      "    standard_name: time\n",
      "unlimited dimensions: time\n",
      "current shape = (436,)\n",
      "filling on, default _FillValue of 9.969209968386869e+36 used\n",
      "<class 'netCDF4._netCDF4.Variable'>\n",
      "float64 time_bnds(time, bnds)\n",
      "unlimited dimensions: time\n",
      "current shape = (436, 2)\n",
      "filling on, default _FillValue of 9.969209968386869e+36 used\n",
      "<class 'netCDF4._netCDF4.Variable'>\n",
      "float64 lat(lat)\n",
      "    bounds: lat_bnds\n",
      "    units: degrees_north\n",
      "    axis: Y\n",
      "    long_name: Latitude\n",
      "    standard_name: latitude\n",
      "unlimited dimensions: \n",
      "current shape = (180,)\n",
      "filling on, default _FillValue of 9.969209968386869e+36 used\n",
      "<class 'netCDF4._netCDF4.Variable'>\n",
      "float64 lat_bnds(lat, bnds)\n",
      "unlimited dimensions: \n",
      "current shape = (180, 2)\n",
      "filling on, default _FillValue of 9.969209968386869e+36 used\n",
      "<class 'netCDF4._netCDF4.Variable'>\n",
      "float64 lon(lon)\n",
      "    bounds: lon_bnds\n",
      "    units: degrees_east\n",
      "    axis: X\n",
      "    long_name: Longitude\n",
      "    standard_name: longitude\n",
      "unlimited dimensions: \n",
      "current shape = (360,)\n",
      "filling on, default _FillValue of 9.969209968386869e+36 used\n",
      "<class 'netCDF4._netCDF4.Variable'>\n",
      "float64 lon_bnds(lon, bnds)\n",
      "unlimited dimensions: \n",
      "current shape = (360, 2)\n",
      "filling on, default _FillValue of 9.969209968386869e+36 used\n",
      "<class 'netCDF4._netCDF4.Variable'>\n",
      "float32 tos(time, lat, lon)\n",
      "    standard_name: sea_surface_temperature\n",
      "    long_name: Sea Surface Temperature\n",
      "    comment: Temperature of upper boundary of the liquid ocean, including temperatures below sea-ice and floating ice shelves.\n",
      "    units: degC\n",
      "    original_units: K\n",
      "    history: 2020-11-30T10:55:21Z altered by CMOR: Converted units from 'K' to 'degC'.\n",
      "    cell_methods: area: mean where sea time: mean\n",
      "    missing_value: 1e+20\n",
      "    _FillValue: 1e+20\n",
      "unlimited dimensions: time\n",
      "current shape = (436, 180, 360)\n",
      "filling on\n"
     ]
    }
   ],
   "source": [
    "for dim in ds.variables.values():\n",
    "    print(dim)"
   ]
  },
  {
   "cell_type": "code",
   "execution_count": 24,
   "metadata": {},
   "outputs": [
    {
     "data": {
      "text/plain": [
       "<class 'netCDF4._netCDF4.Dataset'>\n",
       "root group (NETCDF4_CLASSIC data model, file format HDF5):\n",
       "    Conventions: CF-1.7 ODS-2.1\n",
       "    activity_id: obs4MIPs\n",
       "    contact: Christopher Merchant, University of Reading, U.K. (c.j.merchant@reading.ac.uk)\n",
       "    creation_date: 2020-11-30T10:55:21Z\n",
       "    data_specs_version: 2.1.0\n",
       "    frequency: mon\n",
       "    further_info_url: https://furtherinfo.es-doc.org/obs4MIPs.UReading.ESA-CCI-SST.ESA-CCI-SST-v2-1.tos\n",
       "    grid: 1x1 degree latitude x longitude\n",
       "    grid_label: gn\n",
       "    history: 2020-11-30T10:55:21Z; CMOR rewrote data to be consistent with obs4MIPs, and CF-1.7 ODS-2.1 standards\n",
       "    institution: University of Reading, Reading, U.K.\n",
       "    institution_id: UReading\n",
       "    nominal_resolution: 100 km\n",
       "    product: observations\n",
       "    realm: ocean\n",
       "    region: global_ocean\n",
       "    source: ESA-CCI-SST v2.1 (2019): Sea Surface Temperature (SST) from the European Space Agency Climate Change Initiative (ESA CCI)\n",
       "    source_id: ESA-CCI-SST-v2-1\n",
       "    source_label: ESA-CCI-SST\n",
       "    source_type: satellite_retrieval\n",
       "    source_version_number: v2.1\n",
       "    table_id: obs4MIPs_Omon\n",
       "    table_info: Creation Date:(04 September 2020) MD5:40e6e22ecc5c761c5d463c7d170f85ef\n",
       "    title: ESA CCI SST v2.1 prepared for obs4MIPs (ODS-v2.1.0)\n",
       "    tracking_id: hdl:21.14102/f06060d0-e885-4645-89d6-03bf0a0dab7e\n",
       "    variable_id: tos\n",
       "    variant_info: Best Estimate\n",
       "    variant_label: BE\n",
       "    license: Data in this file produced by the University of Reading is licensed under a Creative Commons Attribution-ShareAlike 4.0 International License (https://creativecommons.org/licenses/). Use of the data must be acknowledged following guidelines found at https://doi.org/10.1038/s41597-019-0236-x . Further information about this data, including some limitations, can be found via https://doi.org/10.1038/s41597-019-0236-x\n",
       "    cmor_version: 3.5.0\n",
       "    dimensions(sizes): time(436), lat(180), lon(360), bnds(2)\n",
       "    variables(dimensions): float64 time(time), float64 time_bnds(time, bnds), float64 lat(lat), float64 lat_bnds(lat, bnds), float64 lon(lon), float64 lon_bnds(lon, bnds), float32 tos(time, lat, lon)\n",
       "    groups: "
      ]
     },
     "execution_count": 24,
     "metadata": {},
     "output_type": "execute_result"
    }
   ],
   "source": [
    "ds"
   ]
  },
  {
   "cell_type": "code",
   "execution_count": 27,
   "metadata": {},
   "outputs": [],
   "source": [
    "sst = ds['tos']"
   ]
  },
  {
   "cell_type": "code",
   "execution_count": 30,
   "metadata": {},
   "outputs": [
    {
     "name": "stdout",
     "output_type": "stream",
     "text": [
      "180 360\n"
     ]
    }
   ],
   "source": [
    "lats = ds.variables['lat'][:]\n",
    "lons = ds.variables['lon'][:]\n",
    "print(len(lats),len(lons))"
   ]
  },
  {
   "cell_type": "code",
   "execution_count": 34,
   "metadata": {},
   "outputs": [
    {
     "name": "stdout",
     "output_type": "stream",
     "text": [
      "436\n"
     ]
    }
   ],
   "source": [
    "print(len(ds.variables['time'][:]))"
   ]
  },
  {
   "cell_type": "code",
   "execution_count": 35,
   "metadata": {},
   "outputs": [
    {
     "name": "stdout",
     "output_type": "stream",
     "text": [
      "[  258.    288.5   319.    349.5   380.5   410.    439.5   470.    500.5\n",
      "   531.    561.5   592.5   623.    653.5   684.    714.5   745.5   775.\n",
      "   804.5   835.    865.5   896.    926.5   957.5   988.   1018.5  1049.\n",
      "  1079.5  1110.5  1140.5  1170.5  1201.   1231.5  1262.   1292.5  1323.5\n",
      "  1354.   1384.5  1415.   1445.5  1476.5  1506.   1535.5  1566.   1596.5\n",
      "  1627.   1657.5  1688.5  1719.   1749.5  1780.   1810.5  1841.5  1871.\n",
      "  1900.5  1931.   1961.5  1992.   2022.5  2053.5  2084.   2114.5  2145.\n",
      "  2175.5  2206.5  2236.   2265.5  2296.   2326.5  2357.   2387.5  2418.5\n",
      "  2449.   2479.5  2510.   2540.5  2571.5  2601.5  2631.5  2662.   2692.5\n",
      "  2723.   2753.5  2784.5  2815.   2845.5  2876.   2906.5  2937.5  2967.\n",
      "  2996.5  3027.   3057.5  3088.   3118.5  3149.5  3180.   3210.5  3241.\n",
      "  3271.5  3302.5  3332.   3361.5  3392.   3422.5  3453.   3483.5  3514.5\n",
      "  3545.   3575.5  3606.   3636.5  3667.5  3697.   3726.5  3757.   3787.5\n",
      "  3818.   3848.5  3879.5  3910.   3940.5  3971.   4001.5  4032.5  4062.5\n",
      "  4092.5  4123.   4153.5  4184.   4214.5  4245.5  4276.   4306.5  4337.\n",
      "  4367.5  4398.5  4428.   4457.5  4488.   4518.5  4549.   4579.5  4610.5\n",
      "  4641.   4671.5  4702.   4732.5  4763.5  4793.   4822.5  4853.   4883.5\n",
      "  4914.   4944.5  4975.5  5006.   5036.5  5067.   5097.5  5128.5  5158.\n",
      "  5187.5  5218.   5248.5  5279.   5309.5  5340.5  5371.   5401.5  5432.\n",
      "  5462.5  5493.5  5523.5  5553.5  5584.   5614.5  5645.   5675.5  5706.5\n",
      "  5737.   5767.5  5798.   5828.5  5859.5  5889.   5918.5  5949.   5979.5\n",
      "  6010.   6040.5  6071.5  6102.   6132.5  6163.   6193.5  6224.5  6254.\n",
      "  6283.5  6314.   6344.5  6375.   6405.5  6436.5  6467.   6497.5  6528.\n",
      "  6558.5  6589.5  6619.   6648.5  6679.   6709.5  6740.   6770.5  6801.5\n",
      "  6832.   6862.5  6893.   6923.5  6954.5  6984.5  7014.5  7045.   7075.5\n",
      "  7106.   7136.5  7167.5  7198.   7228.5  7259.   7289.5  7320.5  7350.\n",
      "  7379.5  7410.   7440.5  7471.   7501.5  7532.5  7563.   7593.5  7624.\n",
      "  7654.5  7685.5  7715.   7744.5  7775.   7805.5  7836.   7866.5  7897.5\n",
      "  7928.   7958.5  7989.   8019.5  8050.5  8080.   8109.5  8140.   8170.5\n",
      "  8201.   8231.5  8262.5  8293.   8323.5  8354.   8384.5  8415.5  8445.5\n",
      "  8475.5  8506.   8536.5  8567.   8597.5  8628.5  8659.   8689.5  8720.\n",
      "  8750.5  8781.5  8811.   8840.5  8871.   8901.5  8932.   8962.5  8993.5\n",
      "  9024.   9054.5  9085.   9115.5  9146.5  9176.   9205.5  9236.   9266.5\n",
      "  9297.   9327.5  9358.5  9389.   9419.5  9450.   9480.5  9511.5  9541.\n",
      "  9570.5  9601.   9631.5  9662.   9692.5  9723.5  9754.   9784.5  9815.\n",
      "  9845.5  9876.5  9906.5  9936.5  9967.   9997.5 10028.  10058.5 10089.5\n",
      " 10120.  10150.5 10181.  10211.5 10242.5 10272.  10301.5 10332.  10362.5\n",
      " 10393.  10423.5 10454.5 10485.  10515.5 10546.  10576.5 10607.5 10637.\n",
      " 10666.5 10697.  10727.5 10758.  10788.5 10819.5 10850.  10880.5 10911.\n",
      " 10941.5 10972.5 11002.  11031.5 11062.  11092.5 11123.  11153.5 11184.5\n",
      " 11215.  11245.5 11276.  11306.5 11337.5 11367.5 11397.5 11428.  11458.5\n",
      " 11489.  11519.5 11550.5 11581.  11611.5 11642.  11672.5 11703.5 11733.\n",
      " 11762.5 11793.  11823.5 11854.  11884.5 11915.5 11946.  11976.5 12007.\n",
      " 12037.5 12068.5 12098.  12127.5 12158.  12188.5 12219.  12249.5 12280.5\n",
      " 12311.  12341.5 12372.  12402.5 12433.5 12463.  12492.5 12523.  12553.5\n",
      " 12584.  12614.5 12645.5 12676.  12706.5 12737.  12767.5 12798.5 12828.5\n",
      " 12858.5 12889.  12919.5 12950.  12980.5 13011.5 13042.  13072.5 13103.\n",
      " 13133.5 13164.5 13194.  13223.5 13254.  13284.5 13315.  13345.5 13376.5\n",
      " 13407.  13437.5 13468.  13498.5]\n"
     ]
    }
   ],
   "source": [
    "print(ds.variables['time'][:])"
   ]
  },
  {
   "cell_type": "code",
   "execution_count": 36,
   "metadata": {},
   "outputs": [
    {
     "name": "stdout",
     "output_type": "stream",
     "text": [
      "[-89.5 -88.5 -87.5 -86.5 -85.5 -84.5 -83.5 -82.5 -81.5 -80.5 -79.5 -78.5\n",
      " -77.5 -76.5 -75.5 -74.5 -73.5 -72.5 -71.5 -70.5 -69.5 -68.5 -67.5 -66.5\n",
      " -65.5 -64.5 -63.5 -62.5 -61.5 -60.5 -59.5 -58.5 -57.5 -56.5 -55.5 -54.5\n",
      " -53.5 -52.5 -51.5 -50.5 -49.5 -48.5 -47.5 -46.5 -45.5 -44.5 -43.5 -42.5\n",
      " -41.5 -40.5 -39.5 -38.5 -37.5 -36.5 -35.5 -34.5 -33.5 -32.5 -31.5 -30.5\n",
      " -29.5 -28.5 -27.5 -26.5 -25.5 -24.5 -23.5 -22.5 -21.5 -20.5 -19.5 -18.5\n",
      " -17.5 -16.5 -15.5 -14.5 -13.5 -12.5 -11.5 -10.5  -9.5  -8.5  -7.5  -6.5\n",
      "  -5.5  -4.5  -3.5  -2.5  -1.5  -0.5   0.5   1.5   2.5   3.5   4.5   5.5\n",
      "   6.5   7.5   8.5   9.5  10.5  11.5  12.5  13.5  14.5  15.5  16.5  17.5\n",
      "  18.5  19.5  20.5  21.5  22.5  23.5  24.5  25.5  26.5  27.5  28.5  29.5\n",
      "  30.5  31.5  32.5  33.5  34.5  35.5  36.5  37.5  38.5  39.5  40.5  41.5\n",
      "  42.5  43.5  44.5  45.5  46.5  47.5  48.5  49.5  50.5  51.5  52.5  53.5\n",
      "  54.5  55.5  56.5  57.5  58.5  59.5  60.5  61.5  62.5  63.5  64.5  65.5\n",
      "  66.5  67.5  68.5  69.5  70.5  71.5  72.5  73.5  74.5  75.5  76.5  77.5\n",
      "  78.5  79.5  80.5  81.5  82.5  83.5  84.5  85.5  86.5  87.5  88.5  89.5]\n"
     ]
    }
   ],
   "source": [
    "print(lats)"
   ]
  },
  {
   "cell_type": "code",
   "execution_count": 37,
   "metadata": {},
   "outputs": [
    {
     "name": "stdout",
     "output_type": "stream",
     "text": [
      "[  0.5   1.5   2.5   3.5   4.5   5.5   6.5   7.5   8.5   9.5  10.5  11.5\n",
      "  12.5  13.5  14.5  15.5  16.5  17.5  18.5  19.5  20.5  21.5  22.5  23.5\n",
      "  24.5  25.5  26.5  27.5  28.5  29.5  30.5  31.5  32.5  33.5  34.5  35.5\n",
      "  36.5  37.5  38.5  39.5  40.5  41.5  42.5  43.5  44.5  45.5  46.5  47.5\n",
      "  48.5  49.5  50.5  51.5  52.5  53.5  54.5  55.5  56.5  57.5  58.5  59.5\n",
      "  60.5  61.5  62.5  63.5  64.5  65.5  66.5  67.5  68.5  69.5  70.5  71.5\n",
      "  72.5  73.5  74.5  75.5  76.5  77.5  78.5  79.5  80.5  81.5  82.5  83.5\n",
      "  84.5  85.5  86.5  87.5  88.5  89.5  90.5  91.5  92.5  93.5  94.5  95.5\n",
      "  96.5  97.5  98.5  99.5 100.5 101.5 102.5 103.5 104.5 105.5 106.5 107.5\n",
      " 108.5 109.5 110.5 111.5 112.5 113.5 114.5 115.5 116.5 117.5 118.5 119.5\n",
      " 120.5 121.5 122.5 123.5 124.5 125.5 126.5 127.5 128.5 129.5 130.5 131.5\n",
      " 132.5 133.5 134.5 135.5 136.5 137.5 138.5 139.5 140.5 141.5 142.5 143.5\n",
      " 144.5 145.5 146.5 147.5 148.5 149.5 150.5 151.5 152.5 153.5 154.5 155.5\n",
      " 156.5 157.5 158.5 159.5 160.5 161.5 162.5 163.5 164.5 165.5 166.5 167.5\n",
      " 168.5 169.5 170.5 171.5 172.5 173.5 174.5 175.5 176.5 177.5 178.5 179.5\n",
      " 180.5 181.5 182.5 183.5 184.5 185.5 186.5 187.5 188.5 189.5 190.5 191.5\n",
      " 192.5 193.5 194.5 195.5 196.5 197.5 198.5 199.5 200.5 201.5 202.5 203.5\n",
      " 204.5 205.5 206.5 207.5 208.5 209.5 210.5 211.5 212.5 213.5 214.5 215.5\n",
      " 216.5 217.5 218.5 219.5 220.5 221.5 222.5 223.5 224.5 225.5 226.5 227.5\n",
      " 228.5 229.5 230.5 231.5 232.5 233.5 234.5 235.5 236.5 237.5 238.5 239.5\n",
      " 240.5 241.5 242.5 243.5 244.5 245.5 246.5 247.5 248.5 249.5 250.5 251.5\n",
      " 252.5 253.5 254.5 255.5 256.5 257.5 258.5 259.5 260.5 261.5 262.5 263.5\n",
      " 264.5 265.5 266.5 267.5 268.5 269.5 270.5 271.5 272.5 273.5 274.5 275.5\n",
      " 276.5 277.5 278.5 279.5 280.5 281.5 282.5 283.5 284.5 285.5 286.5 287.5\n",
      " 288.5 289.5 290.5 291.5 292.5 293.5 294.5 295.5 296.5 297.5 298.5 299.5\n",
      " 300.5 301.5 302.5 303.5 304.5 305.5 306.5 307.5 308.5 309.5 310.5 311.5\n",
      " 312.5 313.5 314.5 315.5 316.5 317.5 318.5 319.5 320.5 321.5 322.5 323.5\n",
      " 324.5 325.5 326.5 327.5 328.5 329.5 330.5 331.5 332.5 333.5 334.5 335.5\n",
      " 336.5 337.5 338.5 339.5 340.5 341.5 342.5 343.5 344.5 345.5 346.5 347.5\n",
      " 348.5 349.5 350.5 351.5 352.5 353.5 354.5 355.5 356.5 357.5 358.5 359.5]\n"
     ]
    }
   ],
   "source": [
    "print(lons)"
   ]
  },
  {
   "cell_type": "code",
   "execution_count": 38,
   "metadata": {},
   "outputs": [
    {
     "data": {
      "text/plain": [
       "<AxesSubplot:>"
      ]
     },
     "execution_count": 38,
     "metadata": {},
     "output_type": "execute_result"
    },
    {
     "data": {
      "image/png": "[encoded data removed]",
      "text/plain": [
       "<Figure size 432x288 with 1 Axes>"
      ]
     },
     "metadata": {
      "needs_background": "light"
     },
     "output_type": "display_data"
    }
   ],
   "source": [
    "continent = gp.read_file('../Work/Fishing/continent/continent.shp')\n",
    "continent.plot()"
   ]
  },
  {
   "cell_type": "code",
   "execution_count": 44,
   "metadata": {},
   "outputs": [
    {
     "data": {
      "text/plain": [
       "(30.0, 46.0)"
      ]
     },
     "execution_count": 44,
     "metadata": {},
     "output_type": "execute_result"
    },
    {
     "data": {
      "image/png": "[encoded data removed]",
      "text/plain": [
       "<Figure size 432x288 with 1 Axes>"
      ]
     },
     "metadata": {
      "needs_background": "light"
     },
     "output_type": "display_data"
    }
   ],
   "source": [
    "continent.plot()\n",
    "plt.xlim(-7,40)\n",
    "plt.ylim(30,46)"
   ]
  },
  {
   "cell_type": "code",
   "execution_count": 132,
   "metadata": {},
   "outputs": [
    {
     "name": "stdout",
     "output_type": "stream",
     "text": [
      "257 257\n"
     ]
    }
   ],
   "source": [
    "#mask covering mediterranean sea\n",
    "lonsel = [-4.5, -4.5, -3.5, -3.5, -2.5, -2.5, -1.5, -1.5, -0.5, -0.5, 0.5, 0.5, 0.5, 0.5, 1.5, 1.5, 1.5, 1.5, 2.5, 2.5, 2.5, 2.5, 3.5, 3.5, 3.5, 3.5, 3.5, 3.5, 4.5, 4.5, 4.5, 4.5, 4.5, 4.5, 5.5, 5.5, 5.5, 5.5, 5.5, 5.5, 6.5, 6.5, 6.5, 6.5, 6.5, 6.5, 7.5, 7.5, 7.5, 7.5, 7.5, 7.5, 7.5, 8.5, 8.5, 8.5, 8.5, 8.5, 9.5, 9.5, 9.5, 9.5, 10.5, 10.5, 10.5, 10.5, 10.5, 10.5, 10.5, 11.5, 11.5, 11.5, 11.5, 11.5, 11.5, 11.5, 11.5, 11.5, 12.5, 12.5, 12.5, 12.5, 12.5, 12.5, 12.5, 12.5, 12.5, 12.5, 12.5, 13.5, 13.5, 13.5, 13.5, 13.5, 13.5, 13.5, 13.5, 13.5, 14.5, 14.5, 14.5, 14.5, 14.5, 14.5, 14.5, 14.5, 14.5, 15.5, 15.5, 15.5, 15.5, 15.5, 15.5, 15.5, 15.5, 15.5, 15.5, 16.5, 16.5, 16.5, 16.5, 16.5, 16.5, 16.5, 16.5, 16.5, 16.5, 17.5, 17.5, 17.5, 17.5, 17.5, 17.5, 17.5, 17.5, 17.5, 17.5, 17.5, 18.5, 18.5, 18.5, 18.5, 18.5, 18.5, 18.5, 18.5, 18.5, 18.5, 18.5, 19.5, 19.5, 19.5, 19.5, 19.5, 19.5, 19.5, 19.5, 19.5, 19.5, 19.5, 20.5, 20.5, 20.5, 20.5, 20.5, 20.5, 20.5, 21.5, 21.5, 21.5, 21.5, 21.5, 22.5, 22.5, 22.5, 22.5, 23.5, 23.5, 23.5, 23.5, 23.5, 23.5, 23.5, 23.5, 24.5, 24.5, 24.5, 24.5, 24.5, 24.5, 24.5, 24.5, 24.5, 25.5, 25.5, 25.5, 25.5, 25.5, 25.5, 25.5, 25.5, 25.5, 26.5, 26.5, 26.5, 26.5, 26.5, 26.5, 26.5, 26.5, 26.5, 27.5, 27.5, 27.5, 27.5, 27.5, 27.5, 28.5, 28.5, 28.5, 28.5, 28.5, 28.5, 29.5, 29.5, 29.5, 29.5, 29.5, 30.5, 30.5, 30.5, 30.5, 30.5, 31.5, 31.5, 31.5, 31.5, 31.5, 31.5, 32.5, 32.5, 32.5, 32.5, 32.5, 33.5, 33.5, 33.5, 33.5, 33.5, 34.5, 34.5, 34.5, 34.5, 34.5, 35.5, 35.5, 35.5]\n",
    "latsel = [35.5, 36.5, 35.5, 36.5, 35.5, 36.5, 35.5, 36.5, 36.5, 37.5, 36.5, 37.5, 38.5, 39.5, 37.5, 38.5, 39.5, 40.5, 37.5, 38.5, 40.5, 41.5, 37.5, 38.5, 39.5, 40.5, 41.5, 42.5, 37.5, 38.5, 39.5, 40.5, 41.5, 42.5, 37.5, 38.5, 39.5, 40.5, 41.5, 42.5, 37.5, 38.5, 39.5, 40.5, 41.5, 42.5, 37.5, 38.5, 39.5, 40.5, 41.5, 42.5, 43.5, 37.5, 38.5, 41.5, 42.5, 43.5, 37.5, 38.5, 41.5, 43.5, 34.5, 37.5, 38.5, 39.5, 40.5, 41.5, 42.5, 33.5, 34.5, 35.5, 36.5, 37.5, 38.5, 39.5, 40.5, 41.5, 33.5, 34.5, 35.5, 36.5, 37.5, 38.5, 39.5, 40.5, 41.5, 44.5, 45.5, 33.5, 34.5, 35.5, 36.5, 38.5, 39.5, 40.5, 44.5, 45.5, 33.5, 34.5, 35.5, 36.5, 38.5, 39.5, 40.5, 42.5, 43.5, 32.5, 33.5, 34.5, 35.5, 36.5, 37.5, 38.5, 39.5, 42.5, 43.5, 31.5, 32.5, 33.5, 34.5, 35.5, 36.5, 37.5, 41.5, 42.5, 43.5, 31.5, 32.5, 33.5, 34.5, 35.5, 36.5, 37.5, 38.5, 39.5, 41.5, 42.5, 31.5, 32.5, 33.5, 34.5, 35.5, 36.5, 37.5, 38.5, 39.5, 40.5, 41.5, 30.5, 31.5, 32.5, 33.5, 34.5, 35.5, 36.5, 37.5, 38.5, 39.5, 41.5, 32.5, 33.5, 34.5, 35.5, 36.5, 37.5, 38.5, 33.5, 34.5, 35.5, 36.5, 37.5, 33.5, 34.5, 35.5, 36.5, 32.5, 33.5, 34.5, 35.5, 36.5, 37.5, 38.5, 39.5, 32.5, 33.5, 34.5, 35.5, 36.5, 37.5, 38.5, 39.5, 40.5, 32.5, 33.5, 34.5, 35.5, 36.5, 37.5, 38.5, 39.5, 40.5, 31.5, 32.5, 33.5, 34.5, 35.5, 36.5, 37.5, 39.5, 40.5, 31.5, 32.5, 33.5, 34.5, 35.5, 36.5, 31.5, 32.5, 33.5, 34.5, 35.5, 36.5, 31.5, 32.5, 33.5, 34.5, 35.5, 31.5, 32.5, 33.5, 34.5, 35.5, 31.5, 32.5, 33.5, 34.5, 35.5, 36.5, 31.5, 32.5, 33.5, 34.5, 35.5, 31.5, 32.5, 33.5, 34.5, 35.5, 32.5, 33.5, 34.5, 35.5, 36.5, 34.5, 35.5, 36.5]\n",
    "print(len(latsel),len(lonsel))"
   ]
  },
  {
   "cell_type": "code",
   "execution_count": 133,
   "metadata": {},
   "outputs": [
    {
     "data": {
      "text/plain": [
       "<matplotlib.collections.PathCollection at 0x7fb6450caf40>"
      ]
     },
     "execution_count": 133,
     "metadata": {},
     "output_type": "execute_result"
    },
    {
     "data": {
      "image/png": "[encoded data removed]",
      "text/plain": [
       "<Figure size 432x288 with 1 Axes>"
      ]
     },
     "metadata": {
      "needs_background": "light"
     },
     "output_type": "display_data"
    }
   ],
   "source": [
    "continent.plot()\n",
    "plt.xlim(-7,40)\n",
    "plt.ylim(30,46)\n",
    "plt.scatter(lonsel,latsel,color='r')"
   ]
  },
  {
   "cell_type": "code",
   "execution_count": 134,
   "metadata": {},
   "outputs": [],
   "source": [
    "lats = list(lats)\n",
    "lons = list(lons)"
   ]
  },
  {
   "cell_type": "code",
   "execution_count": 138,
   "metadata": {},
   "outputs": [],
   "source": [
    "losel2 = []\n",
    "for elem in lonsel:\n",
    "    lo = elem\n",
    "    if elem < 0.0:\n",
    "        lo += 360.0\n",
    "    losel2.append(lo)\n",
    "    "
   ]
  },
  {
   "cell_type": "code",
   "execution_count": 140,
   "metadata": {},
   "outputs": [],
   "source": [
    "idlatsel = [lats.index(elem) for elem in latsel]\n",
    "idlonsel = [lons.index(elem) for elem in losel2]"
   ]
  },
  {
   "cell_type": "code",
   "execution_count": 141,
   "metadata": {},
   "outputs": [],
   "source": [
    "import numpy as np"
   ]
  },
  {
   "cell_type": "code",
   "execution_count": 143,
   "metadata": {},
   "outputs": [
    {
     "name": "stdout",
     "output_type": "stream",
     "text": [
      "0 258.0\n",
      "0 24.21645 [22.237818, 20.899927, 21.630548, 22.004694, 23.02093]\n",
      "1 288.5\n",
      "1 22.707567 [20.340479, 18.942133, 19.32937, 18.62417, 21.116175]\n",
      "2 319.0\n",
      "2 19.627087 [18.227594, 17.889124, 18.327967, 17.976404, 18.867884]\n",
      "3 349.5\n",
      "3 16.769121 [16.61355, 16.140131, 16.578455, 16.017756, 16.745813]\n",
      "4 380.5\n",
      "4 15.655258 [16.265863, 16.03744, 16.183496, 15.499964, 16.054316]\n",
      "5 410.0\n",
      "5 14.865738 [15.47854, 14.945337, 15.287226, 14.878717, 15.184015]\n",
      "6 439.5\n",
      "6 14.620879 [15.87414, 15.44372, 15.760523, 15.440699, 15.763727]\n",
      "7 470.0\n",
      "7 15.576402 [16.292017, 15.942713, 16.256037, 16.05285, 16.383417]\n",
      "8 500.5\n",
      "8 17.746624 [18.155176, 17.693445, 17.690943, 17.697138, 17.828577]\n",
      "9 531.0\n",
      "9 21.974112 [20.120844, 19.230066, 19.976068, 20.006342, 20.860865]\n",
      "10 561.5\n",
      "10 24.472763 [20.91833, 18.889704, 20.003778, 19.70669, 21.665552]\n",
      "11 592.5\n",
      "11 25.078802 [21.870691, 20.549067, 20.991999, 21.123987, 22.483576]\n",
      "12 623.0\n",
      "12 24.28233 [21.29281, 21.311304, 21.927546, 22.042078, 22.40066]\n",
      "13 653.5\n",
      "13 22.424452 [19.800837, 18.224085, 18.99856, 17.847834, 20.364557]\n",
      "14 684.0\n",
      "14 19.749315 [17.902704, 17.594477, 17.991114, 17.565302, 18.781794]\n",
      "15 714.5\n",
      "15 16.354652 [15.741602, 15.085627, 15.366846, 14.78982, 15.749628]\n",
      "16 745.5\n",
      "16 14.909537 [14.976892, 14.581476, 14.852991, 14.399286, 14.809931]\n",
      "17 775.0\n",
      "17 14.142765 [14.790644, 14.400843, 14.476465, 14.168024, 14.486414]\n",
      "18 804.5\n",
      "18 14.390938 [15.503656, 15.45257, 15.430048, 15.144434, 15.308771]\n",
      "19 835.0\n",
      "19 15.461668 [16.192072, 15.515131, 15.7963505, 15.522791, 15.986719]\n",
      "20 865.5\n",
      "20 18.269016 [17.440332, 16.519556, 16.795374, 16.097681, 17.415155]\n",
      "21 896.0\n",
      "21 21.36075 [19.824427, 19.273615, 19.423883, 19.503351, 20.287714]\n",
      "22 926.5\n",
      "22 24.990627 [21.777704, 20.236017, 21.551813, 22.0935, 23.387598]\n",
      "23 957.5\n",
      "23 24.90503 [21.469172, 20.037806, 20.864313, 21.240442, 23.022638]\n",
      "24 988.0\n",
      "24 24.166843 [21.111658, 21.62713, 21.937311, 22.200739, 23.09167]\n",
      "25 1018.5\n",
      "25 21.972073 [19.712854, 20.51562, 20.121363, 20.949823, 21.812494]\n",
      "26 1049.0\n",
      "26 19.396584 [18.66311, 18.42602, 18.50686, 18.476099, 19.104914]\n",
      "27 1079.5\n",
      "27 16.722614 [17.390253, 16.829187, 17.18078, 16.804285, 17.415522]\n",
      "28 1110.5\n",
      "28 15.259766 [16.20199, 15.676538, 15.804529, 15.571558, 15.963465]\n",
      "29 1140.5\n",
      "29 14.433231 [15.291376, 14.638147, 14.968317, 14.595453, 15.288385]\n",
      "30 1170.5\n",
      "30 14.391014 [15.129053, 14.577845, 14.896997, 14.40307, 15.062586]\n",
      "31 1201.0\n",
      "31 15.3509245 [16.232416, 15.736872, 16.004328, 15.696222, 16.15722]\n",
      "32 1231.5\n",
      "32 17.181063 [16.950403, 16.265558, 16.628626, 15.957911, 17.007044]\n",
      "33 1262.0\n",
      "33 20.324574 [18.411554, 17.751612, 17.826044, 17.2893, 18.016321]\n",
      "34 1292.5\n",
      "34 23.270979 [20.719507, 20.82638, 21.11123, 21.645807, 22.02743]\n",
      "35 1323.5\n",
      "35 24.327457 [21.58346, 22.06045, 21.896967, 22.438715, 22.968592]\n",
      "36 1354.0\n",
      "36 23.665638 [21.11831, 21.478968, 21.09411, 21.794123, 22.590265]\n",
      "37 1384.5\n",
      "37 21.753633 [19.233301, 18.223322, 18.836908, 18.496332, 20.294794]\n",
      "38 1415.0\n",
      "38 19.60736 [17.022882, 16.543085, 17.23495, 16.657892, 18.052576]\n",
      "39 1445.5\n",
      "39 17.366001 [16.217096, 15.978144, 16.168146, 16.054926, 16.499567]\n",
      "40 1476.5\n",
      "40 15.39578 [15.457972, 15.265741, 15.325098, 14.935144, 15.4560795]\n",
      "41 1506.0\n",
      "41 14.801061 [15.018061, 14.747431, 14.947229, 14.697931, 14.885279]\n",
      "42 1535.5\n",
      "42 14.594949 [15.427912, 15.186823, 15.24795, 15.103907, 15.23028]\n",
      "43 1566.0\n",
      "43 15.563008 [16.32406, 16.004206, 16.132593, 15.939142, 16.322016]\n",
      "44 1596.5\n",
      "44 17.835384 [17.3388, 16.788507, 16.978022, 16.811274, 17.459284]\n",
      "45 1627.0\n",
      "45 21.713892 [20.070185, 18.923304, 19.523737, 19.726038, 20.565882]\n",
      "46 1657.5\n",
      "46 24.3233 [21.59411, 21.26504, 21.4414, 22.207758, 22.557734]\n",
      "47 1688.5\n",
      "47 25.305426 [22.90658, 21.53927, 22.648829, 22.355219, 24.28097]\n",
      "48 1719.0\n",
      "48 24.513895 [22.52099, 22.142206, 22.721247, 22.746698, 23.66833]\n",
      "49 1749.5\n",
      "49 22.566442 [20.547052, 20.640528, 21.315577, 21.17724, 21.878473]\n",
      "50 1780.0\n",
      "50 19.635221 [18.181849, 17.850916, 18.38952, 18.228998, 18.747858]\n",
      "51 1810.5\n",
      "51 17.340498 [16.66015, 16.20547, 16.506403, 16.20553, 16.520899]\n",
      "52 1841.5\n",
      "52 15.728022 [15.972193, 15.387598, 15.605829, 15.205591, 15.701075]\n",
      "53 1871.0\n",
      "53 14.758308 [15.123224, 14.215143, 14.567957, 13.962488, 14.91305]\n",
      "54 1900.5\n",
      "54 14.857371 [15.366083, 15.109369, 15.336786, 15.109186, 15.281794]\n",
      "55 1931.0\n",
      "55 15.868181 [15.421808, 15.270227, 15.428064, 15.319117, 15.773218]\n",
      "56 1961.5\n",
      "56 18.738098 [17.396387, 17.32516, 17.239954, 17.683008, 18.024958]\n",
      "57 1992.0\n",
      "57 21.59981 [19.50561, 19.176477, 19.63595, 19.748957, 19.795801]\n",
      "58 2022.5\n",
      "58 24.023333 [20.880976, 20.45724, 20.886621, 21.298517, 22.275476]\n",
      "59 2053.5\n",
      "59 25.663876 [21.93548, 19.992487, 21.03625, 21.476282, 23.473139]\n",
      "60 2084.0\n",
      "60 24.884016 [22.181818, 21.153315, 21.682825, 21.610285, 23.50326]\n",
      "61 2114.5\n",
      "61 22.725018 [20.44018, 20.577051, 21.030207, 20.938257, 21.596338]\n",
      "62 2145.0\n",
      "62 19.570595 [17.764215, 17.76217, 18.196466, 18.621698, 19.307764]\n",
      "63 2175.5\n",
      "63 17.138676 [16.10702, 15.8623295, 16.142878, 16.052729, 16.59234]\n",
      "64 2206.5\n",
      "64 15.009945 [15.253443, 14.774439, 15.028711, 14.658777, 15.312098]\n",
      "65 2236.0\n",
      "65 14.510658 [15.305201, 15.031763, 15.158197, 14.8762455, 15.054071]\n",
      "66 2265.5\n",
      "66 14.342348 [15.966089, 15.465052, 15.6653385, 15.466883, 15.654871]\n",
      "67 2296.0\n",
      "67 15.236378 [16.759546, 16.218225, 16.55932, 16.189997, 16.489893]\n",
      "68 2326.5\n",
      "68 17.022678 [18.103785, 17.481165, 17.866236, 17.575861, 18.228754]\n",
      "69 2357.0\n",
      "69 20.771166 [20.02859, 18.837488, 19.291803, 19.000757, 20.643183]\n",
      "70 2387.5\n",
      "70 24.384743 [22.152308, 21.029108, 21.694117, 22.003504, 22.916895]\n",
      "71 2418.5\n",
      "71 25.338167 [22.215296, 20.842829, 20.963068, 21.256617, 22.786524]\n",
      "72 2449.0\n",
      "72 25.31444 [22.776087, 22.366388, 23.089075, 23.239313, 23.761133]\n",
      "73 2479.5\n",
      "73 22.829601 [20.652582, 19.01803, 19.886377, 19.39364, 21.643091]\n",
      "74 2510.0\n",
      "74 19.586378 [17.933588, 17.470789, 17.976007, 17.431604, 18.463587]\n",
      "75 2540.5\n",
      "75 17.065828 [16.975672, 16.147058, 16.659357, 16.191828, 16.646936]\n",
      "76 2571.5\n",
      "76 15.806066 [16.23736, 15.684656, 16.081232, 15.754297, 15.986872]\n",
      "77 2601.5\n",
      "77 15.11224 [15.615473, 15.185083, 15.411646, 15.124231, 15.53863]\n",
      "78 2631.5\n",
      "78 14.777743 [15.824579, 15.4092045, 15.736383, 15.624689, 15.620935]\n",
      "79 2662.0\n",
      "79 15.91277 [16.836664, 15.890863, 16.412958, 15.936243, 16.533075]\n",
      "80 2692.5\n",
      "80 18.523502 [17.928339, 16.63714, 17.323023, 16.649286, 17.935266]\n",
      "81 2723.0\n",
      "81 21.518438 [19.884699, 18.281458, 19.084833, 18.785578, 20.268549]\n",
      "82 2753.5\n",
      "82 24.864178 [21.340052, 20.243494, 20.809595, 20.622278, 22.03631]\n",
      "83 2784.5\n",
      "83 26.119402 [22.468103, 23.627192, 23.432398, 24.391535, 24.601557]\n",
      "84 2815.0\n",
      "84 24.432487 [20.74682, 21.114557, 21.261255, 21.727167, 22.936914]\n",
      "85 2845.5\n",
      "85 22.338661 [18.811792, 19.070154, 19.307734, 19.557673, 20.818415]\n",
      "86 2876.0\n",
      "86 19.509552 [17.875727, 17.877863, 17.87948, 18.042536, 18.75094]\n",
      "87 2906.5\n",
      "87 16.64799 [17.000818, 16.357172, 16.635065, 16.30227, 16.425074]\n",
      "88 2937.5\n",
      "88 15.337671 [15.972803, 15.625513, 15.760218, 15.581934, 15.704279]\n",
      "89 2967.0\n",
      "89 14.618706 [15.051081, 14.835627, 15.04159, 14.89834, 15.090906]\n",
      "90 2996.5\n",
      "90 14.953429 [15.787592, 15.372522, 15.598597, 15.4812565, 15.795832]\n",
      "91 3027.0\n",
      "91 16.130783 [16.02273, 15.4804325, 15.727594, 15.55163, 16.019953]\n",
      "92 3057.5\n",
      "92 18.172943 [17.471704, 17.491877, 17.41604, 17.53689, 17.75738]\n",
      "93 3088.0\n",
      "93 21.22316 [20.06286, 19.30639, 20.099482, 20.20312, 20.831049]\n",
      "94 3118.5\n",
      "94 24.223001 [22.3966, 21.413996, 22.001001, 22.511225, 23.395838]\n",
      "95 3149.5\n",
      "95 25.53908 [22.954065, 22.0693, 22.93548, 23.05404, 24.741053]\n",
      "96 3180.0\n",
      "96 24.414848 [21.869532, 21.690577, 22.249842, 22.515589, 23.553858]\n",
      "97 3210.5\n",
      "97 21.853485 [19.449945, 20.251307, 19.912622, 20.515863, 21.051264]\n",
      "98 3241.0\n",
      "98 19.755844 [17.986567, 18.082453, 18.246271, 18.24621, 18.905115]\n",
      "99 3271.5\n",
      "99 17.442268 [17.437403, 17.275599, 17.296045, 17.069666, 17.260218]\n",
      "100 3302.5\n",
      "100 15.888578 [16.517237, 16.427057, 16.507166, 16.354883, 16.272943]\n",
      "101 3332.0\n",
      "101 15.376913 [15.923304, 15.681879, 15.843958, 15.784754, 15.961817]\n",
      "102 3361.5\n",
      "102 15.378728 [15.582239, 15.555689, 15.495752, 15.706751, 15.789881]\n",
      "103 3392.0\n",
      "103 16.133854 [16.315454, 16.17132, 16.232935, 16.21908, 16.412317]\n",
      "104 3422.5\n",
      "104 19.155787 [18.48147, 17.916254, 18.35879, 18.103205, 18.45135]\n",
      "105 3453.0\n",
      "105 21.819777 [20.027887, 18.811823, 19.656122, 18.934656, 20.564661]\n",
      "106 3483.5\n"
     ]
    },
    {
     "name": "stdout",
     "output_type": "stream",
     "text": [
      "106 24.516712 [22.227991, 21.65304, 22.280756, 22.584223, 22.86114]\n",
      "107 3514.5\n",
      "107 25.572083 [23.776392, 23.270807, 23.969812, 24.377832, 24.535028]\n",
      "108 3545.0\n",
      "108 24.417976 [22.866053, 22.420404, 22.925348, 23.026392, 23.895075]\n",
      "109 3575.5\n",
      "109 23.064144 [20.971064, 19.66894, 20.610071, 19.792963, 21.584406]\n",
      "110 3606.0\n",
      "110 20.481764 [18.583094, 17.698114, 18.297907, 17.590143, 18.736261]\n",
      "111 3636.5\n",
      "111 17.581234 [16.649744, 15.977808, 16.35528, 15.563471, 16.25091]\n",
      "112 3667.5\n",
      "112 16.060112 [15.739618, 15.451288, 15.434534, 15.059656, 15.311548]\n",
      "113 3697.0\n",
      "113 14.95072 [15.127588, 14.702906, 14.996424, 14.641565, 14.688898]\n",
      "114 3726.5\n",
      "114 15.080919 [15.337671, 15.019098, 15.173334, 14.91308, 15.06521]\n",
      "115 3757.0\n",
      "115 15.705495 [15.605738, 15.424158, 15.606592, 15.383051, 15.785547]\n",
      "116 3787.5\n",
      "116 17.052628 [16.742609, 16.465479, 16.727533, 16.532404, 17.13122]\n",
      "117 3818.0\n",
      "117 20.649288 [19.860376, 19.168879, 19.87005, 19.63305, 20.257532]\n",
      "118 3848.5\n",
      "118 23.835869 [21.929102, 21.096766, 21.765406, 22.076685, 22.606226]\n",
      "119 3879.5\n",
      "119 25.42654 [22.855738, 21.98086, 22.572199, 22.308222, 23.758081]\n",
      "120 3910.0\n",
      "120 24.930342 [23.670465, 22.751429, 23.431055, 23.62359, 24.485712]\n",
      "121 3940.5\n",
      "121 22.61189 [19.764399, 18.661432, 19.144403, 18.526056, 20.518122]\n",
      "122 3971.0\n",
      "122 19.490667 [17.04275, 16.641626, 17.428522, 16.863428, 18.064081]\n",
      "123 4001.5\n",
      "123 16.701971 [16.168238, 15.781488, 15.977564, 15.768915, 16.099665]\n",
      "124 4032.5\n",
      "124 15.068504 [15.2312565, 15.209589, 14.983789, 14.925287, 14.992792]\n",
      "125 4062.5\n",
      "125 14.412358 [15.056238, 14.884638, 14.899195, 14.5810795, 14.789423]\n",
      "126 4092.5\n",
      "126 14.336489 [15.5107975, 15.388758, 15.41308, 15.240534, 15.3875065]\n",
      "127 4123.0\n",
      "127 15.28194 [16.267572, 15.768335, 15.977716, 15.604364, 16.029108]\n",
      "128 4153.5\n",
      "128 17.85922 [18.201563, 17.845697, 18.204615, 18.03097, 18.460077]\n",
      "129 4184.0\n",
      "129 20.95529 [18.797815, 17.158167, 18.167444, 17.114527, 19.512903]\n",
      "130 4214.5\n",
      "130 23.84858 [21.878626, 21.610224, 21.97964, 22.391596, 22.551874]\n",
      "131 4245.5\n",
      "131 26.18354 [22.572168, 21.821985, 22.912989, 23.364405, 24.118586]\n",
      "132 4276.0\n",
      "132 24.673672 [21.399408, 20.118128, 20.925806, 20.716303, 23.073175]\n",
      "133 4306.5\n",
      "133 22.336128 [19.0375, 17.149683, 18.353968, 17.491999, 19.796656]\n",
      "134 4337.0\n",
      "134 19.954786 [17.657465, 16.593775, 16.936274, 16.49795, 17.690119]\n",
      "135 4367.5\n",
      "135 17.157995 [16.523829, 15.515772, 15.982721, 15.202417, 16.28036]\n",
      "136 4398.5\n",
      "136 15.330227 [15.402491, 14.984766, 15.548182, 15.162073, 15.376001]\n",
      "137 4428.0\n",
      "137 14.556683 [14.984491, 14.757288, 14.998346, 14.575037, 15.0082035]\n",
      "138 4457.5\n",
      "138 14.365718 [15.420801, 15.079035, 15.056269, 14.67602, 14.980066]\n",
      "139 4488.0\n",
      "139 15.517057 [16.368921, 15.874903, 16.094904, 15.753412, 16.201471]\n",
      "140 4518.5\n",
      "140 18.547144 [17.599451, 16.946161, 17.334589, 16.787745, 17.41952]\n",
      "141 4549.0\n",
      "141 22.35592 [20.131952, 19.015833, 19.69729, 19.329828, 20.346582]\n",
      "142 4579.5\n",
      "142 24.091246 [21.892176, 21.345423, 21.78802, 22.087702, 22.191828]\n",
      "143 4610.5\n",
      "143 25.787247 [23.507563, 22.478327, 23.269556, 23.431025, 23.936182]\n",
      "144 4641.0\n",
      "144 24.525816 [21.207514, 18.896204, 19.875666, 18.497858, 21.660944]\n",
      "145 4671.5\n",
      "145 22.369791 [19.471674, 17.89425, 18.501764, 17.312983, 19.816217]\n",
      "146 4702.0\n",
      "146 19.862206 [17.397943, 17.30343, 17.600885, 17.122614, 17.797266]\n",
      "147 4732.5\n",
      "147 17.414085 [16.450312, 16.168573, 16.272303, 16.068872, 16.35119]\n",
      "148 4763.5\n",
      "148 15.889208 [15.621424, 15.044519, 15.262354, 14.528864, 15.387995]\n",
      "149 4793.0\n",
      "149 14.839467 [14.978083, 14.573542, 14.777552, 14.492548, 14.757074]\n",
      "150 4822.5\n",
      "150 15.230798 [15.323084, 15.295191, 15.334253, 15.264032, 15.3528385]\n",
      "151 4853.0\n",
      "151 15.867631 [16.138361, 15.586237, 15.954859, 15.6626835, 16.225061]\n",
      "152 4883.5\n",
      "152 18.778362 [17.92364, 16.979517, 17.40008, 17.154596, 18.243097]\n",
      "153 4914.0\n",
      "153 21.77462 [19.707361, 18.908136, 19.230768, 19.22088, 19.962885]\n",
      "154 4944.5\n",
      "154 25.135183 [23.019464, 22.18719, 22.989862, 23.400965, 23.910547]\n",
      "155 4975.5\n",
      "155 26.543919 [22.68899, 21.256098, 22.495386, 22.789728, 24.601282]\n",
      "156 5006.0\n",
      "156 25.426697 [21.387629, 19.52682, 20.27746, 20.52749, 23.00915]\n",
      "157 5036.5\n",
      "157 23.23942 [19.224207, 18.629572, 19.21197, 18.7474, 20.21087]\n",
      "158 5067.0\n",
      "158 20.337072 [18.030115, 17.409876, 18.073816, 17.601068, 19.055658]\n",
      "159 5097.5\n",
      "159 17.53866 [16.795893, 16.517176, 16.878107, 16.611963, 17.234858]\n",
      "160 5128.5\n",
      "160 15.597295 [16.008722, 15.441523, 15.755518, 15.574121, 15.98971]\n",
      "161 5158.0\n",
      "161 15.112632 [15.895319, 15.380121, 15.665216, 15.391291, 15.875696]\n",
      "162 5187.5\n",
      "162 15.129945 [15.819666, 15.382654, 15.62475, 15.330164, 15.739435]\n",
      "163 5218.0\n",
      "163 15.6499405 [16.085443, 16.00802, 16.077295, 16.07348, 16.218744]\n",
      "164 5248.5\n",
      "164 18.150269 [17.93548, 17.152155, 17.680506, 17.344843, 17.946802]\n",
      "165 5279.0\n",
      "165 21.89626 [19.808496, 19.18136, 19.927332, 19.877619, 20.65771]\n",
      "166 5309.5\n",
      "166 24.944504 [21.821466, 20.335749, 21.298914, 21.056452, 22.60406]\n",
      "167 5340.5\n",
      "167 26.259975 [23.573938, 22.651117, 23.507563, 24.098902, 25.17959]\n",
      "168 5371.0\n",
      "168 24.443344 [21.73855, 19.528498, 21.194666, 20.3641, 23.18316]\n",
      "169 5401.5\n",
      "169 22.388992 [19.719995, 19.722315, 20.550379, 20.490229, 21.484674]\n",
      "170 5432.0\n",
      "170 19.33264 [18.494776, 18.251368, 18.823267, 18.655909, 19.371027]\n",
      "171 5462.5\n",
      "171 17.0878 [17.43838, 16.759302, 17.349146, 17.154139, 17.284418]\n",
      "172 5493.5\n",
      "172 15.914205 [17.353785, 16.751673, 16.999964, 16.817682, 16.78097]\n",
      "173 5523.5\n",
      "173 15.105914 [16.36764, 15.912226, 16.266413, 15.778711, 16.15182]\n",
      "174 5553.5\n",
      "174 14.836494 [15.854151, 15.382441, 15.636621, 15.232294, 15.608118]\n",
      "175 5584.0\n",
      "175 15.723532 [17.068384, 16.59939, 16.852411, 16.610895, 17.080164]\n",
      "176 5614.5\n",
      "176 18.586742 [18.40005, 17.736261, 18.032099, 17.405787, 18.261255]\n",
      "177 5645.0\n",
      "177 22.115187 [20.518946, 20.20846, 20.36648, 20.552454, 20.68487]\n",
      "178 5675.5\n",
      "178 24.10275 [22.111628, 21.170008, 21.960169, 21.50854, 22.7037]\n",
      "179 5706.5\n",
      "179 25.733377 [23.530542, 21.737787, 22.945368, 22.289484, 24.073877]\n",
      "180 5737.0\n",
      "180 24.047985 [21.73141, 19.912745, 20.968561, 20.116602, 22.108484]\n",
      "181 5767.5\n",
      "181 21.581955 [19.676325, 18.722345, 19.420404, 18.567987, 20.384851]\n",
      "182 5798.0\n",
      "182 19.375858 [17.469507, 17.055262, 18.488245, 17.286554, 18.847406]\n",
      "183 5828.5\n",
      "183 17.241283 [16.630793, 15.998255, 16.362604, 15.570276, 17.130426]\n",
      "184 5859.5\n",
      "184 15.980721 [16.152338, 15.336542, 15.935083, 15.116663, 15.89596]\n",
      "185 5889.0\n",
      "185 15.454493 [16.053736, 15.940577, 16.13061, 15.951014, 16.11413]\n",
      "186 5918.5\n",
      "186 15.420993 [16.298822, 16.341242, 16.275446, 16.300287, 16.541681]\n",
      "187 5949.0\n",
      "187 15.709807 [16.962366, 17.120356, 16.934412, 17.047388, 17.078943]\n",
      "188 5979.5\n",
      "188 18.66667 [18.65542, 17.72555, 18.564936, 17.925043, 18.89239]\n",
      "189 6010.0\n",
      "189 22.461987 [20.715387, 18.422632, 19.779932, 18.758936, 20.990839]\n",
      "190 6040.5\n",
      "190 24.309654 [21.469263, 20.28802, 20.889856, 20.399225, 21.84765]\n",
      "191 6071.5\n",
      "191 25.617302 [23.051386, 21.861078, 22.756403, 23.284662, 23.987879]\n",
      "192 6102.0\n",
      "192 24.676815 [22.519587, 22.223688, 22.856897, 22.898767, 23.501581]\n",
      "193 6132.5\n",
      "193 22.784924 [21.500727, 21.125849, 21.886133, 21.488764, 22.271387]\n",
      "194 6163.0\n",
      "194 19.764843 [19.205591, 18.294977, 19.094294, 17.630426, 19.552729]\n",
      "195 6193.5\n",
      "195 17.358234 [17.718683, 16.575373, 17.2362, 16.418787, 17.401361]\n",
      "196 6224.5\n",
      "196 16.027126 [16.65011, 15.637476, 16.392756, 15.555414, 16.37597]\n",
      "197 6254.0\n",
      "197 15.441868 [15.9751835, 15.152094, 15.977686, 15.233362, 16.071222]\n",
      "198 6283.5\n",
      "198 15.342781 [16.706995, 16.315485, 16.560968, 16.259455, 16.668177]\n",
      "199 6314.0\n",
      "199 16.2097 [16.939142, 16.201563, 16.484644, 15.90008, 16.659082]\n",
      "200 6344.5\n",
      "200 18.471857 [17.862665, 17.076075, 17.618372, 17.177546, 17.680109]\n",
      "201 6375.0\n",
      "201 22.340733 [20.137415, 18.871943, 19.745874, 19.644556, 20.494867]\n",
      "202 6405.5\n",
      "202 24.976454 [22.503626, 21.381464, 22.266535, 22.518915, 23.306208]\n",
      "203 6436.5\n",
      "203 26.53271 [22.88064, 22.694147, 23.270502, 24.007532, 24.181055]\n",
      "204 6467.0\n",
      "204 24.962124 [21.90713, 20.232141, 21.297815, 21.363886, 23.098963]\n",
      "205 6497.5\n",
      "205 22.659824 [19.81582, 18.26089, 19.249414, 18.14593, 20.583368]\n",
      "206 6528.0\n",
      "206 19.979956 [18.176233, 17.327784, 17.917109, 17.464014, 18.807337]\n",
      "207 6558.5\n",
      "207 17.15239 [16.423853, 15.928858, 16.273737, 15.933619, 16.461786]\n",
      "208 6589.5\n",
      "208 15.751083 [15.74505, 15.221064, 15.423975, 15.090418, 15.382532]\n",
      "209 6619.0\n",
      "209 14.924289 [15.390467, 14.995203, 15.286951, 14.920191, 15.09646]\n",
      "210 6648.5\n",
      "210 15.065031 [15.679651, 15.36651, 15.465143, 15.146143, 15.560175]\n",
      "211 6679.0\n"
     ]
    },
    {
     "name": "stdout",
     "output_type": "stream",
     "text": [
      "211 16.062347 [17.080347, 16.333887, 16.786798, 16.264826, 17.06933]\n",
      "212 6709.5\n",
      "212 19.352022 [18.230799, 17.134699, 17.816431, 17.210443, 18.520807]\n",
      "213 6740.0\n",
      "213 22.843344 [20.523645, 19.916498, 20.49621, 20.918268, 20.994501]\n",
      "214 6770.5\n",
      "214 25.058426 [22.583765, 21.510584, 22.351587, 22.866968, 24.030878]\n",
      "215 6801.5\n",
      "215 26.518574 [22.83172, 20.301569, 22.07232, 22.146051, 24.90072]\n",
      "216 6832.0\n",
      "216 25.73124 [22.003016, 20.859491, 21.792353, 21.486322, 23.598505]\n",
      "217 6862.5\n",
      "217 23.578875 [20.099634, 19.069147, 19.911066, 19.365747, 20.952814]\n",
      "218 6893.0\n",
      "218 20.563818 [18.033777, 17.53985, 17.981836, 17.634546, 18.421534]\n",
      "219 6923.5\n",
      "219 17.538118 [16.119806, 15.817377, 16.07226, 15.8417, 16.12353]\n",
      "220 6954.5\n",
      "220 15.634321 [15.339563, 15.07284, 15.024591, 14.877893, 15.0438175]\n",
      "221 6984.5\n",
      "221 14.9114485 [15.717432, 15.589472, 15.482386, 15.475672, 15.463465]\n",
      "222 7014.5\n",
      "222 14.907009 [15.89477, 15.813837, 15.834803, 15.809626, 15.893854]\n",
      "223 7045.0\n",
      "223 16.061184 [16.34994, 15.817194, 16.158686, 15.549341, 16.480616]\n",
      "224 7075.5\n",
      "224 19.501846 [18.540522, 18.00332, 18.46435, 18.325922, 18.826197]\n",
      "225 7106.0\n",
      "225 22.769657 [20.798792, 20.570612, 20.841425, 21.13006, 21.455652]\n",
      "226 7136.5\n",
      "226 24.754965 [22.002954, 21.055597, 21.783442, 22.018, 23.089808]\n",
      "227 7167.5\n",
      "227 25.897596 [23.497492, 21.897608, 23.06286, 23.132776, 24.055567]\n",
      "228 7198.0\n",
      "228 25.071026 [22.350641, 21.075983, 22.144587, 21.643335, 23.389368]\n",
      "229 7228.5\n",
      "229 22.618769 [20.322077, 18.365503, 19.486658, 18.23443, 20.335962]\n",
      "230 7259.0\n",
      "230 20.293386 [17.194422, 15.963007, 17.571497, 16.480402, 18.004908]\n",
      "231 7289.5\n",
      "231 17.965166 [16.485987, 15.729609, 16.285303, 15.6357975, 16.74969]\n",
      "232 7320.5\n",
      "232 16.239262 [16.048487, 15.399958, 15.760981, 15.131891, 15.849817]\n",
      "233 7350.0\n",
      "233 15.396682 [15.491816, 15.071924, 15.316736, 14.983545, 15.414789]\n",
      "234 7379.5\n",
      "234 15.750926 [15.967371, 15.521051, 15.948786, 15.699427, 16.007349]\n",
      "235 7410.0\n",
      "235 16.484518 [16.911951, 16.416437, 16.731653, 16.637873, 16.915247]\n",
      "236 7440.5\n",
      "236 18.73937 [17.754297, 16.86828, 17.53692, 17.295038, 17.918055]\n",
      "237 7471.0\n",
      "237 22.303738 [20.374659, 19.9703, 20.611078, 20.505548, 21.23736]\n",
      "238 7501.5\n",
      "238 24.916666 [21.481562, 19.415308, 20.599024, 20.57577, 21.501215]\n",
      "239 7532.5\n",
      "239 26.358046 [22.461237, 21.666285, 22.364405, 23.365503, 23.140009]\n",
      "240 7563.0\n",
      "240 25.050692 [22.117334, 21.412073, 21.614222, 22.641077, 22.92068]\n",
      "241 7593.5\n",
      "241 23.645105 [20.248377, 19.461664, 20.324305, 20.000177, 21.446009]\n",
      "242 7624.0\n",
      "242 20.283903 [17.526636, 17.461725, 18.074884, 17.93252, 18.277094]\n",
      "243 7654.5\n",
      "243 17.209818 [16.205866, 16.046534, 16.279993, 16.168695, 16.255335]\n",
      "244 7685.5\n",
      "244 15.517964 [16.178186, 15.744959, 15.776514, 15.553522, 15.371454]\n",
      "245 7715.0\n",
      "245 15.231939 [15.922815, 15.769861, 15.799402, 15.724512, 15.654108]\n",
      "246 7744.5\n",
      "246 15.507712 [15.932489, 15.7807865, 15.890497, 15.67016, 16.006647]\n",
      "247 7775.0\n",
      "247 16.237373 [16.730188, 16.434076, 16.63775, 16.548944, 16.686914]\n",
      "248 7805.5\n",
      "248 18.93979 [17.861353, 17.008204, 17.473963, 17.370478, 18.078547]\n",
      "249 7836.0\n",
      "249 22.605772 [19.635767, 18.59759, 19.73501, 19.519342, 20.41366]\n",
      "250 7866.5\n",
      "250 25.292006 [22.244318, 21.108332, 21.967524, 22.622675, 23.357416]\n",
      "251 7897.5\n",
      "251 25.940268 [23.101526, 21.137537, 22.387995, 22.543879, 24.72378]\n",
      "252 7928.0\n",
      "252 25.018276 [21.910212, 19.65954, 20.921534, 20.276606, 23.873194]\n",
      "253 7958.5\n",
      "253 22.659508 [19.609491, 19.0563, 20.28396, 19.527552, 21.00384]\n",
      "254 7989.0\n",
      "254 20.17486 [18.217981, 17.149225, 17.821314, 17.529413, 19.124445]\n",
      "255 8019.5\n",
      "255 17.721113 [16.981592, 16.100397, 16.846033, 16.263117, 17.219538]\n",
      "256 8050.5\n",
      "256 16.217907 [16.199549, 15.4821415, 16.090876, 15.824305, 16.188623]\n",
      "257 8080.0\n",
      "257 15.09772 [15.346216, 15.016382, 15.251276, 15.145716, 15.330408]\n",
      "258 8109.5\n",
      "258 15.029004 [15.177393, 15.08761, 15.460688, 15.390406, 15.539789]\n",
      "259 8140.0\n",
      "259 15.792927 [16.324091, 16.259943, 16.28335, 16.267664, 16.38]\n",
      "260 8170.5\n",
      "260 19.558434 [18.570734, 18.375727, 18.52978, 18.757654, 18.79217]\n",
      "261 8201.0\n",
      "261 24.0154 [20.97854, 20.052942, 21.092127, 21.318872, 21.616693]\n",
      "262 8231.5\n",
      "262 26.344698 [22.199396, 20.035608, 21.363611, 21.095606, 23.862452]\n",
      "263 8262.5\n",
      "263 27.476616 [23.39715, 22.546839, 24.225, 23.713495, 25.611353]\n",
      "264 8293.0\n",
      "264 25.350521 [21.71322, 20.595697, 21.926416, 21.419245, 23.199762]\n",
      "265 8323.5\n",
      "265 22.935612 [19.896723, 19.564753, 20.57171, 20.27096, 21.419336]\n",
      "266 8354.0\n",
      "266 20.164948 [17.910517, 17.512232, 18.13592, 17.73614, 18.461115]\n",
      "267 8384.5\n",
      "267 17.652597 [16.55227, 16.201105, 16.62057, 16.472834, 16.52978]\n",
      "268 8415.5\n",
      "268 15.618628 [15.813684, 15.354486, 15.767939, 15.576838, 15.649469]\n",
      "269 8445.5\n",
      "269 14.845264 [15.556757, 15.326929, 15.487055, 15.314417, 15.228815]\n",
      "270 8475.5\n",
      "270 14.887486 [15.879297, 15.599421, 15.679895, 15.498072, 15.484247]\n",
      "271 8506.0\n",
      "271 16.06848 [16.523005, 16.097895, 16.425592, 16.223017, 16.557703]\n",
      "272 8536.5\n",
      "272 18.038967 [17.534967, 16.906977, 17.473475, 17.147638, 17.714136]\n",
      "273 8567.0\n",
      "273 21.999008 [20.994196, 20.730433, 21.179926, 21.600122, 21.790369]\n",
      "274 8597.5\n",
      "274 25.17862 [22.948633, 22.640528, 23.163813, 23.54156, 24.1112]\n",
      "275 8628.5\n",
      "275 26.145971 [23.583002, 21.412806, 23.071405, 22.307154, 25.017633]\n",
      "276 8659.0\n",
      "276 24.989525 [22.479914, 20.825312, 21.982508, 21.761133, 24.43838]\n",
      "277 8689.5\n",
      "277 23.253252 [20.906488, 19.297022, 20.468714, 20.03161, 22.174616]\n",
      "278 8720.0\n",
      "278 20.602064 [18.170282, 17.211817, 18.033411, 17.361689, 18.719965]\n",
      "279 8750.5\n",
      "279 17.726318 [16.322657, 16.147394, 16.537897, 16.297815, 16.786127]\n",
      "280 8781.5\n",
      "280 15.844976 [15.302515, 15.048639, 15.2703495, 15.117914, 15.214106]\n",
      "281 8811.0\n",
      "281 14.685876 [14.757624, 14.450525, 14.633081, 14.370813, 14.491297]\n",
      "282 8840.5\n",
      "282 14.85585 [15.155237, 14.980036, 14.9909, 14.833948, 14.804712]\n",
      "283 8871.0\n",
      "283 15.845563 [16.542871, 16.157495, 16.494379, 16.163813, 16.518152]\n",
      "284 8901.5\n",
      "284 18.93366 [18.924982, 17.958124, 18.582697, 17.75686, 19.252039]\n",
      "285 8932.0\n",
      "285 22.623404 [20.982752, 19.867579, 20.497187, 20.622705, 21.465631]\n",
      "286 8962.5\n",
      "286 25.22602 [22.8883, 21.514215, 22.08166, 22.58874, 23.500208]\n",
      "287 8993.5\n",
      "287 25.736423 [23.30694, 21.91488, 22.436823, 22.581385, 24.322992]\n",
      "288 9024.0\n",
      "288 24.925762 [22.34823, 20.571436, 21.18847, 20.885736, 22.935144]\n",
      "289 9054.5\n",
      "289 22.672607 [20.614588, 19.583124, 20.428034, 20.056452, 21.246088]\n",
      "290 9085.0\n",
      "290 20.084202 [18.071619, 17.157434, 18.067041, 17.573969, 18.91189]\n",
      "291 9115.5\n",
      "291 17.162842 [16.252863, 15.956507, 16.111994, 15.850428, 16.326227]\n",
      "292 9146.5\n",
      "292 15.436559 [15.720026, 15.380976, 15.517237, 15.283045, 15.369013]\n",
      "293 9176.0\n",
      "293 14.684134 [15.202814, 14.907038, 15.164637, 14.851587, 15.066919]\n",
      "294 9205.5\n",
      "294 14.732042 [15.436731, 14.959833, 15.201227, 14.77038, 15.335413]\n",
      "295 9236.0\n",
      "295 16.277061 [17.24087, 16.51092, 16.83877, 16.402552, 17.350458]\n",
      "296 9266.5\n",
      "296 19.258533 [17.892298, 17.725092, 17.861536, 18.047663, 18.521235]\n",
      "297 9297.0\n",
      "297 22.156507 [19.961054, 19.474573, 19.821894, 19.997736, 20.41598]\n",
      "298 9327.5\n",
      "298 25.643354 [22.714289, 21.430353, 22.297937, 22.341486, 23.776209]\n",
      "299 9358.5\n",
      "299 26.042532 [23.697107, 22.160273, 23.07879, 22.773645, 24.836573]\n",
      "300 9389.0\n",
      "300 24.894659 [22.574701, 21.399073, 22.198542, 21.768091, 23.13531]\n",
      "301 9419.5\n",
      "301 22.99367 [21.03625, 19.696222, 20.4938, 19.455194, 21.677942]\n",
      "302 9450.0\n",
      "302 20.123209 [18.900812, 18.46853, 19.128443, 18.662317, 19.688501]\n",
      "303 9480.5\n",
      "303 17.998169 [16.986841, 16.512262, 17.000238, 16.496363, 17.424707]\n",
      "304 9511.5\n",
      "304 16.268476 [15.855066, 15.632196, 15.788782, 15.699915, 15.966974]\n",
      "305 9541.0\n",
      "305 15.507997 [15.690943, 15.294519, 15.403467, 15.182856, 15.392023]\n",
      "306 9570.5\n",
      "306 15.534442 [15.793146, 15.422052, 15.630426, 15.293787, 15.639887]\n",
      "307 9601.0\n",
      "307 16.6409 [16.334528, 16.03747, 16.243616, 16.100153, 16.224878]\n",
      "308 9631.5\n",
      "308 19.422989 [17.782587, 16.832941, 17.806452, 17.518885, 18.24975]\n",
      "309 9662.0\n",
      "309 22.748571 [19.864954, 18.194696, 19.202173, 18.88067, 20.139917]\n",
      "310 9692.5\n",
      "310 25.256338 [22.19549, 21.027979, 21.798243, 22.020258, 22.695063]\n",
      "311 9723.5\n",
      "311 26.004404 [22.74267, 21.821497, 22.41073, 22.842585, 23.489985]\n",
      "312 9754.0\n",
      "312 24.816832 [22.699884, 22.144648, 22.842096, 22.741388, 22.676752]\n",
      "313 9784.5\n",
      "313 22.709976 [21.528833, 20.844172, 21.49444, 21.496943, 21.53567]\n",
      "314 9815.0\n",
      "314 19.702923 [18.628504, 18.434595, 19.038263, 18.989374, 19.160273]\n",
      "315 9845.5\n",
      "315 17.24997 [16.874018, 16.682886, 16.734064, 16.668238, 16.804224]\n",
      "316 9876.5\n"
     ]
    },
    {
     "name": "stdout",
     "output_type": "stream",
     "text": [
      "316 15.913099 [16.135431, 16.022638, 16.030024, 15.871332, 15.864038]\n",
      "317 9906.5\n",
      "317 15.259898 [15.890314, 15.7217045, 15.646936, 15.61059, 15.64477]\n",
      "318 9936.5\n",
      "318 15.4365635 [16.4125, 16.101007, 16.208643, 15.887842, 16.029444]\n",
      "319 9967.0\n",
      "319 16.336256 [16.865839, 16.365381, 16.635553, 16.112787, 16.894587]\n",
      "320 9997.5\n",
      "320 18.9782 [17.972284, 16.892176, 17.572412, 17.144617, 18.000269]\n",
      "321 10028.0\n",
      "321 22.697561 [20.612146, 19.661676, 20.45437, 20.552637, 21.089136]\n",
      "322 10058.5\n",
      "322 25.541616 [22.004877, 21.244318, 22.31695, 22.476831, 23.449518]\n",
      "323 10089.5\n",
      "323 26.347395 [23.424128, 22.141474, 22.870356, 24.11239, 25.033503]\n",
      "324 10120.0\n",
      "324 25.406822 [22.547205, 20.94604, 22.208155, 21.73855, 23.664759]\n",
      "325 10150.5\n",
      "325 22.597713 [19.46206, 19.484339, 19.79156, 19.897211, 20.454828]\n",
      "326 10181.0\n",
      "326 20.399664 [17.474878, 17.163874, 17.614435, 17.237513, 18.010157]\n",
      "327 10211.5\n",
      "327 17.509321 [15.6731205, 15.167749, 15.70849, 15.08877, 15.692255]\n",
      "328 10242.5\n",
      "328 15.866652 [15.0758, 14.510614, 15.082575, 14.661615, 14.859125]\n",
      "329 10272.0\n",
      "329 15.114212 [14.953089, 14.547022, 14.693537, 14.352106, 14.34997]\n",
      "330 10301.5\n",
      "330 14.959126 [15.152643, 15.087488, 15.038385, 15.018976, 15.051355]\n",
      "331 10332.0\n",
      "331 16.103373 [16.02392, 15.555109, 15.825251, 15.488794, 15.911768]\n",
      "332 10362.5\n",
      "332 19.308815 [17.85528, 17.017328, 17.415216, 17.252893, 17.831171]\n",
      "333 10393.0\n",
      "333 23.003422 [20.71786, 19.207453, 20.255396, 19.92071, 20.830927]\n",
      "334 10423.5\n",
      "334 25.489985 [22.81399, 20.608393, 22.007776, 21.51269, 23.363672]\n",
      "335 10454.5\n",
      "335 26.67819 [24.127008, 23.274683, 24.205805, 24.731318, 24.942255]\n",
      "336 10485.0\n",
      "336 25.499973 [23.169184, 21.871424, 23.143854, 22.184595, 23.506464]\n",
      "337 10515.5\n",
      "337 23.037308 [21.723627, 20.745447, 21.83999, 21.042963, 21.91366]\n",
      "338 10546.0\n",
      "338 19.806034 [19.367945, 18.022028, 18.50329, 17.42785, 18.371515]\n",
      "339 10576.5\n",
      "339 17.56236 [17.579187, 16.25036, 16.944086, 15.79104, 16.64126]\n",
      "340 10607.5\n",
      "340 16.090538 [16.939844, 15.888819, 16.476587, 15.117884, 16.362818]\n",
      "341 10637.0\n",
      "341 15.255825 [16.213465, 15.170557, 15.996912, 15.0082035, 15.767664]\n",
      "342 10666.5\n",
      "342 15.394566 [16.671839, 16.075098, 16.124567, 15.636713, 16.28222]\n",
      "343 10697.0\n",
      "343 16.779716 [17.194086, 16.746393, 16.971033, 16.635187, 17.300806]\n",
      "344 10727.5\n",
      "344 19.065636 [18.309046, 17.428736, 18.086481, 17.50332, 18.76034]\n",
      "345 10758.0\n",
      "345 22.361456 [20.81103, 19.322138, 20.301355, 19.62597, 21.412348]\n",
      "346 10788.5\n",
      "346 25.697895 [22.730341, 22.080439, 22.444574, 22.889704, 23.43551]\n",
      "347 10819.5\n",
      "347 26.478193 [25.081202, 24.076075, 25.052698, 25.224207, 25.684961]\n",
      "348 10850.0\n",
      "348 25.25659 [23.381403, 22.038874, 22.806086, 22.51031, 23.813288]\n",
      "349 10880.5\n",
      "349 22.943226 [21.109919, 19.47732, 20.171137, 19.176447, 21.543573]\n",
      "350 10911.0\n",
      "350 20.156507 [18.681452, 17.035639, 17.744196, 16.347284, 18.651514]\n",
      "351 10941.5\n",
      "351 17.823982 [17.157587, 16.254053, 16.826502, 15.999903, 16.918879]\n",
      "352 10972.5\n",
      "352 16.31532 [17.00442, 16.19723, 16.679163, 16.112055, 16.39483]\n",
      "353 11002.0\n",
      "353 15.581157 [16.16836, 15.92605, 16.102655, 15.917994, 15.915766]\n",
      "354 11031.5\n",
      "354 15.45374 [15.89657, 15.658655, 15.691217, 15.627924, 15.822016]\n",
      "355 11062.0\n",
      "355 16.772001 [17.084223, 17.017328, 17.019953, 17.0935, 17.092005]\n",
      "356 11092.5\n",
      "356 19.08079 [19.150232, 18.792536, 18.961145, 19.014612, 19.046076]\n",
      "357 11123.0\n",
      "357 22.66888 [21.51742, 20.681818, 21.394953, 20.877588, 21.819788]\n",
      "358 11153.5\n",
      "358 25.28636 [23.157953, 21.485773, 22.424372, 21.814722, 23.583918]\n",
      "359 11184.5\n",
      "359 26.26279 [23.951807, 23.088617, 23.58233, 23.930353, 24.550531]\n",
      "360 11215.0\n",
      "360 25.926338 [23.095972, 21.633295, 22.469233, 21.931269, 24.036127]\n",
      "361 11245.5\n",
      "361 23.047874 [21.444086, 20.764246, 21.456537, 21.296747, 21.867334]\n",
      "362 11276.0\n",
      "362 20.038311 [18.56347, 17.90481, 18.346613, 17.801844, 18.968836]\n",
      "363 11306.5\n",
      "363 17.843702 [16.638544, 16.412165, 16.808802, 16.645655, 16.976068]\n",
      "364 11337.5\n",
      "364 15.905561 [15.820459, 15.56637, 15.656763, 15.647303, 15.73147]\n",
      "365 11367.5\n",
      "365 14.869848 [15.2279, 14.75149, 15.077784, 14.787317, 14.972803]\n",
      "366 11397.5\n",
      "366 15.085679 [15.472559, 15.195185, 15.426844, 15.352289, 15.481897]\n",
      "367 11428.0\n",
      "367 16.318413 [15.905542, 15.405848, 15.699823, 15.160883, 16.090876]\n",
      "368 11458.5\n",
      "368 19.269142 [18.3688, 17.326258, 17.876398, 17.441767, 18.58819]\n",
      "369 11489.0\n",
      "369 23.170906 [20.532892, 19.243525, 19.927027, 20.128717, 20.872583]\n",
      "370 11519.5\n",
      "370 25.954334 [21.415949, 21.170801, 21.585443, 21.931421, 23.264643]\n",
      "371 11550.5\n",
      "371 26.940542 [21.509882, 21.349878, 22.336878, 22.879816, 24.654078]\n",
      "372 11581.0\n",
      "372 25.427927 [21.553156, 21.68487, 22.175745, 22.063684, 23.72558]\n",
      "373 11611.5\n",
      "373 23.918537 [20.31457, 18.858118, 20.124292, 19.534967, 21.955683]\n",
      "374 11642.0\n",
      "374 21.053854 [18.367548, 17.733362, 18.239252, 17.535181, 18.959284]\n",
      "375 11672.5\n",
      "375 17.870205 [16.856623, 16.236109, 16.817102, 16.359125, 17.175684]\n",
      "376 11703.5\n",
      "376 16.062588 [16.27566, 15.404688, 15.867273, 15.497553, 16.097498]\n",
      "377 11733.0\n",
      "377 15.184434 [15.472956, 14.53274, 15.20611, 14.581537, 15.259333]\n",
      "378 11762.5\n",
      "378 15.1834755 [15.512171, 14.628321, 15.3345585, 15.007257, 15.231684]\n",
      "379 11793.0\n",
      "379 16.594795 [16.766626, 16.186945, 16.498194, 16.260248, 16.290247]\n",
      "380 11823.5\n",
      "380 19.237366 [18.048914, 17.109186, 17.75509, 17.330072, 18.266504]\n",
      "381 11854.0\n",
      "381 21.921467 [19.40014, 18.172815, 18.863642, 18.494013, 19.810785]\n",
      "382 11884.5\n",
      "382 25.079136 [22.307428, 21.409052, 22.399652, 22.678736, 23.095728]\n",
      "383 11915.5\n",
      "383 26.47708 [23.68307, 23.127436, 24.011927, 24.060236, 25.079737]\n",
      "384 11946.0\n",
      "384 25.34674 [22.99563, 22.550928, 22.997492, 23.495813, 23.723627]\n",
      "385 11976.5\n",
      "385 23.29474 [21.855982, 20.472986, 21.437616, 20.590052, 22.679255]\n",
      "386 12007.0\n",
      "386 20.790585 [19.230158, 17.473627, 18.509516, 17.492182, 19.586512]\n",
      "387 12037.5\n",
      "387 17.711208 [16.156488, 16.25146, 16.317072, 16.151392, 16.574823]\n",
      "388 12068.5\n",
      "388 16.338917 [15.858057, 15.438837, 15.654383, 15.202173, 15.653284]\n",
      "389 12098.0\n",
      "389 15.715152 [15.465296, 14.764826, 15.124292, 14.6184635, 15.162714]\n",
      "390 12127.5\n",
      "390 15.745161 [15.327509, 14.981836, 15.294916, 15.028894, 15.308313]\n",
      "391 12158.0\n",
      "391 16.922623 [16.63656, 16.232813, 16.635736, 16.54751, 16.721155]\n",
      "392 12188.5\n",
      "392 19.064201 [18.306238, 18.370752, 18.582026, 18.609919, 18.876734]\n",
      "393 12219.0\n",
      "393 22.537455 [20.205103, 19.260614, 20.542444, 20.285364, 21.03921]\n",
      "394 12249.5\n",
      "394 24.733664 [22.339441, 20.176386, 21.744043, 20.902094, 22.538599]\n",
      "395 12280.5\n",
      "395 26.121054 [23.211786, 21.227015, 22.388147, 22.368433, 23.659845]\n",
      "396 12311.0\n",
      "396 25.739033 [22.942438, 20.908289, 22.389277, 22.14657, 23.86767]\n",
      "397 12341.5\n",
      "397 23.681074 [21.164606, 20.508997, 21.16128, 20.6589, 21.864466]\n",
      "398 12372.0\n",
      "398 20.751616 [18.928064, 17.865808, 18.583277, 17.712824, 18.7185]\n",
      "399 12402.5\n",
      "399 18.48946 [17.17428, 16.894068, 17.274897, 16.943903, 16.961603]\n",
      "400 12433.5\n",
      "400 16.293478 [15.729517, 15.483759, 15.662012, 15.634485, 15.77981]\n",
      "401 12463.0\n",
      "401 15.273414 [14.889826, 14.554163, 14.683496, 14.469843, 14.643457]\n",
      "402 12492.5\n",
      "402 15.22174 [15.1652775, 14.93722, 15.129419, 14.990259, 15.114252]\n",
      "403 12523.0\n",
      "403 16.272083 [16.067682, 16.0469, 16.046717, 15.936792, 16.05401]\n",
      "404 12553.5\n",
      "404 19.397451 [18.425013, 18.173456, 18.69967, 18.596796, 19.113245]\n",
      "405 12584.0\n",
      "405 22.689182 [20.832666, 20.099634, 20.886011, 20.557947, 21.484613]\n",
      "406 12614.5\n",
      "406 26.031908 [24.911371, 23.357172, 24.6654, 24.815302, 25.322382]\n",
      "407 12645.5\n",
      "407 27.215683 [24.050531, 22.570612, 23.102808, 23.629877, 24.527765]\n",
      "408 12676.0\n",
      "408 25.91874 [22.689295, 21.318415, 21.731806, 21.746332, 23.126062]\n",
      "409 12706.5\n",
      "409 23.442497 [21.886774, 20.631525, 21.018793, 21.041407, 21.762201]\n",
      "410 12737.0\n",
      "410 20.754478 [19.94546, 18.837732, 19.423456, 19.196863, 19.61413]\n",
      "411 12767.5\n",
      "411 18.207758 [17.675379, 17.197748, 17.233149, 17.075739, 17.396906]\n",
      "412 12798.5\n",
      "412 16.605652 [17.037622, 16.657618, 16.746637, 16.160883, 16.435907]\n",
      "413 12828.5\n",
      "413 15.830226 [16.368738, 15.6887455, 15.813013, 15.135462, 15.902826]\n",
      "414 12858.5\n",
      "414 15.794014 [15.965509, 15.131617, 15.479517, 14.89126, 15.511896]\n",
      "415 12889.0\n",
      "415 17.153147 [16.854181, 16.324305, 16.646997, 16.479029, 17.071375]\n",
      "416 12919.5\n",
      "416 18.933924 [17.870447, 17.957819, 18.18542, 18.209589, 18.592035]\n",
      "417 12950.0\n",
      "417 22.63019 [19.881495, 19.104486, 19.770014, 19.988214, 20.579615]\n",
      "418 12980.5\n",
      "418 25.387535 [21.915735, 22.791834, 22.563288, 23.142603, 22.6177]\n",
      "419 13011.5\n"
     ]
    },
    {
     "name": "stdout",
     "output_type": "stream",
     "text": [
      "419 26.096684 [23.20846, 23.152308, 23.6513, 23.951777, 24.16186]\n",
      "420 13042.0\n",
      "420 25.607515 [23.292109, 22.122766, 23.178644, 22.93316, 24.131128]\n",
      "421 13072.5\n",
      "421 23.528826 [21.033686, 20.058924, 20.9956, 21.000177, 21.478998]\n",
      "422 13103.0\n",
      "422 20.832293 [18.18075, 17.991571, 18.652887, 18.207972, 18.81228]\n",
      "423 13133.5\n",
      "423 18.252804 [17.092035, 16.717127, 17.009089, 16.805079, 16.767603]\n",
      "424 13164.5\n",
      "424 16.040716 [15.960077, 15.847712, 15.913538, 15.899927, 15.879206]\n",
      "425 13194.0\n",
      "425 15.346098 [15.621485, 15.326563, 15.463221, 15.270685, 15.257929]\n",
      "426 13223.5\n",
      "426 15.742454 [16.016352, 15.745661, 15.958399, 15.786432, 15.930994]\n",
      "427 13254.0\n",
      "427 16.874945 [16.82583, 16.645075, 16.87176, 16.819971, 16.98849]\n",
      "428 13284.5\n",
      "428 19.490726 [18.806849, 18.282831, 18.716486, 18.388575, 19.049982]\n",
      "429 13315.0\n",
      "429 23.657133 [22.260706, 21.21612, 22.26333, 22.133509, 22.5841]\n",
      "430 13345.5\n",
      "430 25.829124 [23.050257, 21.472925, 22.63064, 22.29339, 23.855585]\n",
      "431 13376.5\n",
      "431 26.809134 [23.378687, 23.145533, 23.53689, 24.07461, 24.680262]\n",
      "432 13407.0\n",
      "432 25.27802 [22.739008, 21.405787, 22.585382, 21.925379, 24.047052]\n",
      "433 13437.5\n",
      "433 23.006735 [21.267878, 20.403803, 21.265863, 21.080896, 22.358973]\n",
      "434 13468.0\n",
      "434 20.109245 [18.868952, 18.112482, 18.780481, 18.270288, 19.403284]\n",
      "435 13498.5\n",
      "435 17.607117 [16.71081, 16.250574, 16.59167, 16.085993, 16.904749]\n"
     ]
    }
   ],
   "source": [
    "avsst = []\n",
    "for t in range(len(ds.variables['time'][:])):\n",
    "    print(t,ds.variables['time'][t])\n",
    "    values = []\n",
    "    for la,lo in zip(idlatsel,idlonsel):\n",
    "        val = sst[t][la][lo]\n",
    "        if val > 0.0:\n",
    "            values.append(val)\n",
    "    print(t,np.mean(values),values[:5])\n",
    "    avsst.append(np.mean(values))"
   ]
  },
  {
   "cell_type": "code",
   "execution_count": 144,
   "metadata": {},
   "outputs": [
    {
     "data": {
      "text/plain": [
       "[<matplotlib.lines.Line2D at 0x7fb646c6f430>]"
      ]
     },
     "execution_count": 144,
     "metadata": {},
     "output_type": "execute_result"
    },
    {
     "data": {
      "image/png": "[encoded data removed]",
      "text/plain": [
       "<Figure size 432x288 with 1 Axes>"
      ]
     },
     "metadata": {
      "needs_background": "light"
     },
     "output_type": "display_data"
    }
   ],
   "source": [
    "plt.plot(avsst)"
   ]
  },
  {
   "cell_type": "code",
   "execution_count": 145,
   "metadata": {},
   "outputs": [],
   "source": [
    "#primer dato es el de octubre de 1981(entrada 0)\n",
    "#noviembre 81: 1, dic 81: 2, jan 82: 3, dec 82: 14\n",
    "#años: del 82 al 17 -> un total de 36 años\n",
    "tmax= []\n",
    "tmin = []\n",
    "for i in range(36):\n",
    "    samp = avsst[3+12*i:3+12*(i+1)]\n",
    "    tmax.append(np.amax(samp))\n",
    "    tmin.append(np.amin(samp))"
   ]
  },
  {
   "cell_type": "code",
   "execution_count": 146,
   "metadata": {},
   "outputs": [
    {
     "data": {
      "text/plain": [
       "[<matplotlib.lines.Line2D at 0x7fb635cbb100>]"
      ]
     },
     "execution_count": 146,
     "metadata": {},
     "output_type": "execute_result"
    },
    {
     "data": {
      "image/png": "[encoded data removed]",
      "text/plain": [
       "<Figure size 432x288 with 1 Axes>"
      ]
     },
     "metadata": {
      "needs_background": "light"
     },
     "output_type": "display_data"
    }
   ],
   "source": [
    "plt.plot(tmax)\n",
    "plt.plot(tmin)"
   ]
  },
  {
   "cell_type": "code",
   "execution_count": 147,
   "metadata": {},
   "outputs": [],
   "source": [
    "import matplotlib.colors as colors\n",
    "cmap = plt.get_cmap('coolwarm')"
   ]
  },
  {
   "cell_type": "code",
   "execution_count": 148,
   "metadata": {},
   "outputs": [],
   "source": [
    "cnorm = colors.Normalize(vmin = np.amin(tmin), vmax = np.amax(tmax))"
   ]
  },
  {
   "cell_type": "code",
   "execution_count": 149,
   "metadata": {},
   "outputs": [],
   "source": [
    "from shapely.geometry import Polygon as polygon"
   ]
  },
  {
   "cell_type": "code",
   "execution_count": 150,
   "metadata": {},
   "outputs": [],
   "source": [
    "# fig = plt.figure(figsize=(12,12))\n",
    "pols = []\n",
    "cs = []\n",
    "vals = []\n",
    "for i in range(len(tmax)):\n",
    "    T = tmax[i]\n",
    "    t = tmin[i]\n",
    "    for ix in range(1500):\n",
    "        val = 13.0+0.01*ix\n",
    "        if val > t and val < T:\n",
    "            pols.append(polygon([(i-0.5,val),(i-0.5,val+0.01),(i+0.5,val+0.01),(i+0.5,val)]))\n",
    "            cs.append(cmap(cnorm(val)))\n",
    "            vals.append(val)\n",
    "            "
   ]
  },
  {
   "cell_type": "code",
   "execution_count": 151,
   "metadata": {},
   "outputs": [],
   "source": [
    "geoaux = gp.GeoDataFrame({'col':cs,'val':vals},geometry=pols)"
   ]
  },
  {
   "cell_type": "code",
   "execution_count": 152,
   "metadata": {},
   "outputs": [
    {
     "name": "stdout",
     "output_type": "stream",
     "text": [
      "39845\n"
     ]
    }
   ],
   "source": [
    "print(len(geoaux))"
   ]
  },
  {
   "cell_type": "code",
   "execution_count": 153,
   "metadata": {},
   "outputs": [
    {
     "data": {
      "text/plain": [
       "<AxesSubplot:>"
      ]
     },
     "execution_count": 153,
     "metadata": {},
     "output_type": "execute_result"
    },
    {
     "data": {
      "image/png": "[encoded data removed]",
      "text/plain": [
       "<Figure size 432x288 with 1 Axes>"
      ]
     },
     "metadata": {
      "needs_background": "light"
     },
     "output_type": "display_data"
    }
   ],
   "source": [
    "geoaux.plot(column='val',cmap=cmap,norm=cnorm)"
   ]
  },
  {
   "cell_type": "code",
   "execution_count": 154,
   "metadata": {},
   "outputs": [
    {
     "name": "stdout",
     "output_type": "stream",
     "text": [
      "14.142765 27.476616\n"
     ]
    }
   ],
   "source": [
    "print(np.amin(tmin),np.amax(tmax))"
   ]
  },
  {
   "cell_type": "code",
   "execution_count": 155,
   "metadata": {},
   "outputs": [
    {
     "name": "stdout",
     "output_type": "stream",
     "text": [
      "36\n"
     ]
    }
   ],
   "source": [
    "print(len(tmax))"
   ]
  },
  {
   "cell_type": "code",
   "execution_count": 168,
   "metadata": {},
   "outputs": [
    {
     "data": {
      "text/plain": [
       "(-0.5, 35.5, 10.0, 30.0)"
      ]
     },
     "execution_count": 168,
     "metadata": {},
     "output_type": "execute_result"
    },
    {
     "data": {
      "image/png": "[encoded data removed]",
      "text/plain": [
       "<Figure size 576x864 with 1 Axes>"
      ]
     },
     "metadata": {},
     "output_type": "display_data"
    }
   ],
   "source": [
    "fig = plt.figure(figsize=(8,12))\n",
    "fig.set_facecolor('#fff7bc')\n",
    "ax = plt.gca()\n",
    "ax.set_facecolor('#fff7bc')\n",
    "plt.ylim(12-2,28+2)\n",
    "plt.xlim(-0.5,35.5)\n",
    "# plt.plot(tmax,color='k')\n",
    "# plt.plot(tmin,color='k')\n",
    "geoaux.plot(ax=ax,column='val',cmap=cmap,norm=cnorm,aspect=None)\n",
    "\n",
    "ax.grid(False)\n",
    "plt.xticks([])\n",
    "plt.yticks([])\n",
    "plt.text(-0.5,(tmin[0]+tmax[0])/2-1,'1982',rotation=90,color='#444444',size=20,weight='bold')\n",
    "plt.text(34.2,(tmin[-1]+tmax[-1])/2-1,'2017',rotation=90,color='#444444',size=20,weight='bold')\n",
    "ax.axis('off')\n",
    "# ax.set_position([0,0,1,0.5])"
   ]
  },
  {
   "cell_type": "code",
   "execution_count": 169,
   "metadata": {},
   "outputs": [],
   "source": [
    "fig.savefig('mediterranean_temprange_monthly.png',bbox_inches='tight',dpi=300)"
   ]
  }
 ],
 "metadata": {
  "kernelspec": {
   "display_name": "Python [conda env:ctx]",
   "language": "python",
   "name": "conda-env-ctx-py"
  },
  "language_info": {
   "codemirror_mode": {
    "name": "ipython",
    "version": 3
   },
   "file_extension": ".py",
   "mimetype": "text/x-python",
   "name": "python",
   "nbconvert_exporter": "python",
   "pygments_lexer": "ipython3",
   "version": "3.9.4"
  }
 },
 "nbformat": 4,
 "nbformat_minor": 2
}
